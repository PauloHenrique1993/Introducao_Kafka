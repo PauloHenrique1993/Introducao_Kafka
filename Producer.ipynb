{
  "nbformat": 4,
  "nbformat_minor": 0,
  "metadata": {
    "colab": {
      "name": "Producer.ipynb",
      "provenance": []
    },
    "kernelspec": {
      "name": "python3",
      "display_name": "Python 3"
    }
  },
  "cells": [
    {
      "cell_type": "code",
      "metadata": {
        "colab": {
          "base_uri": "https://localhost:8080/"
        },
        "id": "DWeRO4SdEVW9",
        "outputId": "1c412b80-edf4-44dd-e99f-92cd15352d91"
      },
      "source": [
        "!pip install confluent_kafka"
      ],
      "execution_count": 1,
      "outputs": [
        {
          "output_type": "stream",
          "name": "stdout",
          "text": [
            "Collecting confluent_kafka\n",
            "  Downloading confluent_kafka-1.7.0-cp37-cp37m-manylinux2010_x86_64.whl (2.7 MB)\n",
            "\u001b[K     |████████████████████████████████| 2.7 MB 5.4 MB/s \n",
            "\u001b[?25hInstalling collected packages: confluent-kafka\n",
            "Successfully installed confluent-kafka-1.7.0\n"
          ]
        }
      ]
    },
    {
      "cell_type": "code",
      "metadata": {
        "colab": {
          "base_uri": "https://localhost:8080/"
        },
        "id": "P_X71RFmEeez",
        "outputId": "94c4f864-626a-4026-9f10-1a8623203fa1"
      },
      "source": [
        "import sys\n",
        "import os\n",
        "\n",
        "from confluent_kafka import Producer\n",
        "\n",
        "def delivery_callback(err, msg):\n",
        "    if err:\n",
        "        print('%% Message failed delivery: %s\\n', err)\n",
        "    else:\n",
        "        print('%% Message delivered to %s [%d]\\n',\n",
        "                          (msg.topic(), msg.partition()))\n",
        "\n",
        "def createTopic():\n",
        "    print(\"init\");\n",
        "    topic = #username\n",
        "\n",
        "    # Consumer configuration\n",
        "    # See https://github.com/edenhill/librdkafka/blob/master/CONFIGURATION.md\n",
        "    conf = {\n",
        "        'bootstrap.servers': #Servers1, Servers2, Servers3,\n",
        "        'session.timeout.ms': 6000,\n",
        "        'default.topic.config': {'auto.offset.reset': 'smallest'},\n",
        "        'security.protocol': 'SASL_SSL',\n",
        "\t'sasl.mechanisms': 'SCRAM-SHA-256',\n",
        "        'sasl.username': #username,\n",
        "        'sasl.password': #Password\n",
        "    }\n",
        "\n",
        "    p = Producer(conf)\n",
        "\n",
        "    try:\n",
        "        p.produce(topic, \"Mensagem a ser exibida no consumer\", callback=delivery_callback) # Pode ser streaming, json, notificação, logs ...\n",
        "    except BufferError as e:\n",
        "        print('%% Local producer queue is full (%d messages awaiting delivery): try again\\n',\n",
        "                          len(p))\n",
        "    p.poll(0)\n",
        "\n",
        "    print('%% Waiting for %d deliveries\\n' % len(p))\n",
        "    p.flush()\n",
        "\n",
        "createTopic();"
      ],
      "execution_count": 9,
      "outputs": [
        {
          "output_type": "stream",
          "name": "stdout",
          "text": [
            "init\n",
            "% Waiting for 1 deliveries\n",
            "\n",
            "%% Message delivered to %s [%d]\n",
            " ('9emh5v04-default', 3)\n"
          ]
        }
      ]
    }
  ]
}